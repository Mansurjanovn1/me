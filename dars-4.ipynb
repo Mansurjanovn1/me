{
 "cells": [
  {
   "cell_type": "markdown",
   "metadata": {},
   "source": [
    "# Dars-4"
   ]
  },
  {
   "cell_type": "code",
   "execution_count": 4,
   "metadata": {},
   "outputs": [
    {
     "name": "stdout",
     "output_type": "stream",
     "text": [
      "81\n",
      "3\n"
     ]
    }
   ],
   "source": [
    "#Arifmetik amallari\n",
    "a=3\n",
    "b=4\n",
    "print (a**b)\n",
    "print (a%b)"
   ]
  },
  {
   "cell_type": "code",
   "execution_count": 14,
   "metadata": {},
   "outputs": [
    {
     "name": "stdout",
     "output_type": "stream",
     "text": [
      "Qayta urinib koring\n"
     ]
    }
   ],
   "source": [
    "#Mantiqiy amallari\n",
    "username =input('Umar')\n",
    "password =input('123')\n",
    "\n",
    "if username == 'Umar' and password =='123':\n",
    "    print('Hush Kelibsiz')\n",
    "else:\n",
    "    print('Qayta urinib koring')    "
   ]
  },
  {
   "cell_type": "code",
   "execution_count": 19,
   "metadata": {},
   "outputs": [
    {
     "name": "stdout",
     "output_type": "stream",
     "text": [
      "togri\n"
     ]
    }
   ],
   "source": [
    "username =input(\"Loginni kiriting:\")\n",
    "\n",
    "\n",
    "if username == \"admin\" or username == \"men\":\n",
    "    print(\"togri\")\n",
    "else:\n",
    "    print(\"xato\")"
   ]
  },
  {
   "cell_type": "code",
   "execution_count": 44,
   "metadata": {},
   "outputs": [
    {
     "name": "stdout",
     "output_type": "stream",
     "text": [
      "Bu sonlar teng emas\n"
     ]
    }
   ],
   "source": [
    "#Solishtirish amallari\n",
    "a = int(input('1 sonni kiriting'))\n",
    "b = int(input('2 sonni kiriting'))\n",
    "if a == b:\n",
    "    print('Bu sonlar teng ')\n",
    "else:\n",
    "    print('Bu sonlar teng emas')   "
   ]
  },
  {
   "cell_type": "code",
   "execution_count": 4,
   "metadata": {},
   "outputs": [
    {
     "name": "stdout",
     "output_type": "stream",
     "text": [
      "Yoq kichik\n"
     ]
    }
   ],
   "source": [
    "a = 7\n",
    "b = 17\n",
    "\n",
    "if a > b:  \n",
    "    print('Ha katta')\n",
    "else:\n",
    "    print('Yoq kichik')"
   ]
  },
  {
   "cell_type": "code",
   "execution_count": 5,
   "metadata": {},
   "outputs": [
    {
     "name": "stdout",
     "output_type": "stream",
     "text": [
      "3\n"
     ]
    }
   ],
   "source": [
    "a=1\n",
    "print(a+2)"
   ]
  },
  {
   "cell_type": "code",
   "execution_count": 7,
   "metadata": {},
   "outputs": [
    {
     "name": "stdout",
     "output_type": "stream",
     "text": [
      "-12\n"
     ]
    }
   ],
   "source": [
    "#O’zgaruvchi qiymatlash\n",
    "a = 4\n",
    "b = -3\n",
    "a *= b  \n",
    "print(a)"
   ]
  },
  {
   "cell_type": "code",
   "execution_count": 9,
   "metadata": {},
   "outputs": [
    {
     "name": "stdout",
     "output_type": "stream",
     "text": [
      "10\n"
     ]
    }
   ],
   "source": [
    "a = 8\n",
    "b = -2\n",
    "a -= b  \n",
    "print(a)"
   ]
  },
  {
   "cell_type": "code",
   "execution_count": null,
   "metadata": {},
   "outputs": [],
   "source": []
  }
 ],
 "metadata": {
  "kernelspec": {
   "display_name": "Python 3",
   "language": "python",
   "name": "python3"
  },
  "language_info": {
   "codemirror_mode": {
    "name": "ipython",
    "version": 3
   },
   "file_extension": ".py",
   "mimetype": "text/x-python",
   "name": "python",
   "nbconvert_exporter": "python",
   "pygments_lexer": "ipython3",
   "version": "3.13.0"
  }
 },
 "nbformat": 4,
 "nbformat_minor": 2
}
