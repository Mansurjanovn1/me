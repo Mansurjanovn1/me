{
 "cells": [
  {
   "cell_type": "markdown",
   "metadata": {},
   "source": [
    "# Dars-2 h/w"
   ]
  },
  {
   "cell_type": "code",
   "execution_count": 12,
   "metadata": {},
   "outputs": [
    {
     "name": "stdout",
     "output_type": "stream",
     "text": [
      "2.6666666666666665\n",
      "2\n",
      "2\n",
      "2.0\n"
     ]
    }
   ],
   "source": [
    "# data types\n",
    "\n",
    "a=8\n",
    "b=3\n",
    "c=5\n",
    "d=6\n",
    "e=8\n",
    "\n",
    "print(a/b)\n",
    "print(a//b)\n",
    "print(a%b)\n",
    "print(a/e*b+c-d)"
   ]
  },
  {
   "cell_type": "markdown",
   "metadata": {},
   "source": [
    "#qoshimcha matematik ammalar"
   ]
  },
  {
   "cell_type": "markdown",
   "metadata": {},
   "source": []
  },
  {
   "cell_type": "code",
   "execution_count": 6,
   "metadata": {},
   "outputs": [
    {
     "name": "stdout",
     "output_type": "stream",
     "text": [
      "birlar xonasidagi raqam  9\n"
     ]
    }
   ],
   "source": [
    "# berilgan 2 xonali sonning birlar xonasidagi/10 lar xonasidagi raqamni toping\n",
    "\n",
    "\n",
    "a=int(input('ikki xonali sonni kiriting:'))\n",
    "print('birlar xonasidagi raqam ',a%10)\n",
    "19"
   ]
  },
  {
   "cell_type": "code",
   "execution_count": 45,
   "metadata": {},
   "outputs": [
    {
     "name": "stdout",
     "output_type": "stream",
     "text": [
      "Manfiy\n"
     ]
    }
   ],
   "source": [
    "#Berilgan sonni musbat toq/ manfiy juft ekanligi aniqlang va uni Booleanda tekshiring\n",
    "\n",
    "a=int(input('Sonni kiriting'))\n",
    "if a<0:\n",
    "    print('Manfiy')\n",
    "else:\n",
    "    print('Musbat')"
   ]
  },
  {
   "cell_type": "code",
   "execution_count": 56,
   "metadata": {},
   "outputs": [
    {
     "name": "stdout",
     "output_type": "stream",
     "text": [
      "Musbat son toqmi? True\n",
      "Manfiy son juftmi? False\n"
     ]
    }
   ],
   "source": [
    "\n",
    "#Berilgan sonni musbat toq/ manfiy juft ekanligi aniqlang va uni Booleanda tekshiring\n",
    "\n",
    "\n",
    "# Sonni tekshirish uchun kiritamiz\n",
    "number=int(input('sonni kiriting'))\n",
    "# Musbat toq yoki manfiy juft ekanligini aniqlash\n",
    "is_positive_odd = number > 0 and number % 2 != 0\n",
    "is_negative_even = number < 0 and number % 2 == 0\n",
    "# Natijalarni Boolean qiymatlarda ko'rsatish\n",
    "print ('Musbat son toqmi?',is_positive_odd)\n",
    "print ('Manfiy son juftmi?',is_negative_even)"
   ]
  },
  {
   "cell_type": "code",
   "execution_count": 59,
   "metadata": {},
   "outputs": [
    {
     "name": "stdout",
     "output_type": "stream",
     "text": [
      "Raqamlar yigindisi 9\n"
     ]
    }
   ],
   "source": [
    "#Berilgan 3 xonali sonni raqamlar yig'indisini toping \n",
    "\n",
    "number=int(input('3 xonali sonni kiriting'))\n",
    "\n",
    "hundreds=number // 100\n",
    "tens=(number // 10)%10\n",
    "units=number % 10\n",
    "\n",
    "sum_of_digits= hundreds+tens+units \n",
    "\n",
    "print('Raqamlar yigindisi',sum_of_digits )\n",
    "\n",
    "234"
   ]
  },
  {
   "cell_type": "code",
   "execution_count": 65,
   "metadata": {},
   "outputs": [
    {
     "name": "stdout",
     "output_type": "stream",
     "text": [
      "Teskari tartibda yozilgan son: 543\n"
     ]
    }
   ],
   "source": [
    "#Berilgan 3 xonali sonni teskari tartibda yozilganini toping(Masalan:123->321)\n",
    "\n",
    "number=int(input('3 xonali sonni kiriting'))\n",
    "\n",
    "hundreds=number//100\n",
    "tens=(number//10)%10\n",
    "units=number%10\n",
    "\n",
    "reversed_number = (units * 100) + (tens * 10) + hundreds\n",
    "\n",
    "print(\"Teskari tartibda yozilgan son:\", reversed_number)"
   ]
  },
  {
   "cell_type": "code",
   "execution_count": 70,
   "metadata": {},
   "outputs": [
    {
     "name": "stdout",
     "output_type": "stream",
     "text": [
      "Toq so'zli\n"
     ]
    }
   ],
   "source": [
    "#Berilgan sozdagi xarflar soni juft bolsa juft so'zli deb aks xolda toq so'zli deb umuman xarflardan iborat bolmasa xatolik bor deb ekranga chiqaring\n",
    "\n",
    "word=input('Sozni kiriting')\n",
    "letter_count = len([char for char in word if char.isalpha()])\n",
    "\n",
    "if letter_count == 0:\n",
    "    print(\"Xatolik bor: So'zda harflar yo'q.\")\n",
    "elif letter_count% 2 == 0 :\n",
    "     print(\"Juft so'zli\")\n",
    "else:\n",
    "     print(\"Toq so'zli\")\n"
   ]
  },
  {
   "cell_type": "code",
   "execution_count": 75,
   "metadata": {},
   "outputs": [
    {
     "name": "stdout",
     "output_type": "stream",
     "text": [
      "False\n"
     ]
    }
   ],
   "source": [
    "#Berilgan sonni 10 va 50 oraligida ekanligini tekshiring\n",
    "\n",
    "number=int(input('Sonni kiriting'))\n",
    "\n",
    "if 10 <=number<=50:\n",
    "    print('True')\n",
    "else:\n",
    "    print('False')"
   ]
  },
  {
   "cell_type": "code",
   "execution_count": 76,
   "metadata": {},
   "outputs": [
    {
     "name": "stdout",
     "output_type": "stream",
     "text": [
      "Son 10 va 50 oraligida.\n"
     ]
    }
   ],
   "source": [
    "#Berilgan sonni 10 va 50 oraligida ekanligini tekshiring va agar shunda bolsa togri aks xolda xato deb ekranga chiqaring\n",
    "\n",
    "number=int(input('Sonni kiriting'))\n",
    "\n",
    "if 10 <=number<=50:\n",
    "    print('Son 10 va 50 oraligida.')\n",
    "else:\n",
    "    print('Son 10 va 50 oraligida emas.')"
   ]
  },
  {
   "cell_type": "code",
   "execution_count": 96,
   "metadata": {},
   "outputs": [
    {
     "name": "stdout",
     "output_type": "stream",
     "text": [
      "Kuchsiz parol\n"
     ]
    }
   ],
   "source": [
    "#Agar parol 8 tadan kam belgi/sonlardan iborat bolsa kuchsiz aks xolda kuchli parol deb ekranga chiqaring\n",
    "\n",
    "password=input('Parolni kiriting')\n",
    "\n",
    "if len(password) < 8:\n",
    "    print('Kuchsiz parol')\n",
    "else:\n",
    "    print('Kuchli parol')"
   ]
  },
  {
   "cell_type": "code",
   "execution_count": 99,
   "metadata": {},
   "outputs": [
    {
     "name": "stdout",
     "output_type": "stream",
     "text": [
      "Eng katta son: 90.0\n",
      "Eng kichik son: 50.0\n",
      "O'rtacha son: 70.0\n"
     ]
    }
   ],
   "source": [
    "#Berilgan 3 ta sondan eng kattasini/kichigini/o'rtachasini aniqlaydigan kod yozing\n",
    "\n",
    "a=float(input('Birinchi sonni kiriting'))\n",
    "b=float(input('Ikkinchi sonni kiriting'))\n",
    "c=float(input('Uchinchi sonni kiriting'))\n",
    "\n",
    "max_number=max(a,b,c)\n",
    "min_number=min(a,b,c)\n",
    "average = (a + b + c) / 3\n",
    "\n",
    "print(f\"Eng katta son: {max_number}\")\n",
    "print(f\"Eng kichik son: {min_number}\")\n",
    "print(f\"O'rtacha son: {average}\")"
   ]
  },
  {
   "cell_type": "code",
   "execution_count": 101,
   "metadata": {},
   "outputs": [
    {
     "name": "stdout",
     "output_type": "stream",
     "text": [
      "Xush kelibsiz!\n"
     ]
    }
   ],
   "source": [
    "#Parol yarating va kod yozing agar kod to'gri bolsa xush kelibsiz aks xolda parol xato deb ekranga chiqaring\n",
    "\n",
    "correct_password = \"MySecret123\"  # Bu o'zgartiriladigan parol\n",
    "\n",
    "# Foydalanuvchidan parolni kiritishni so'raymiz\n",
    "user_password = input('Parolni kiriting: ')\n",
    "\n",
    "# Parolni tekshiramiz\n",
    "if user_password == correct_password:\n",
    "    print(\"Xush kelibsiz!\")\n",
    "else:\n",
    "    print(\"Parol xato!\")"
   ]
  },
  {
   "cell_type": "code",
   "execution_count": null,
   "metadata": {},
   "outputs": [],
   "source": []
  }
 ],
 "metadata": {
  "kernelspec": {
   "display_name": "Python 3",
   "language": "python",
   "name": "python3"
  },
  "language_info": {
   "codemirror_mode": {
    "name": "ipython",
    "version": 3
   },
   "file_extension": ".py",
   "mimetype": "text/x-python",
   "name": "python",
   "nbconvert_exporter": "python",
   "pygments_lexer": "ipython3",
   "version": "3.13.0"
  }
 },
 "nbformat": 4,
 "nbformat_minor": 2
}
