{
 "cells": [
  {
   "cell_type": "code",
   "execution_count": 1,
   "metadata": {},
   "outputs": [
    {
     "name": "stdout",
     "output_type": "stream",
     "text": [
      "9\n"
     ]
    }
   ],
   "source": [
    "# Sonni berilgan darajaga ko'taring(turli xil usullar bn)\n",
    "a = 3\n",
    "b = 2\n",
    "result = a ** b\n",
    "\n",
    "print(result)"
   ]
  },
  {
   "cell_type": "code",
   "execution_count": 2,
   "metadata": {},
   "outputs": [
    {
     "name": "stdout",
     "output_type": "stream",
     "text": [
      "9.0\n"
     ]
    }
   ],
   "source": [
    "import math \n",
    "\n",
    "a = 3\n",
    "b = 2\n",
    "result = math.pow(a,b)\n",
    "\n",
    "print(result)"
   ]
  },
  {
   "cell_type": "code",
   "execution_count": 6,
   "metadata": {},
   "outputs": [
    {
     "name": "stdout",
     "output_type": "stream",
     "text": [
      "4.0\n"
     ]
    }
   ],
   "source": [
    "#Berilgan sonni ildizini toping\n",
    "son = 16\n",
    "result = son ** 0.5\n",
    "\n",
    "print(result)"
   ]
  },
  {
   "cell_type": "code",
   "execution_count": 9,
   "metadata": {},
   "outputs": [
    {
     "name": "stdout",
     "output_type": "stream",
     "text": [
      "True\n",
      "True\n",
      "False\n"
     ]
    }
   ],
   "source": [
    "# 2 ta int berilganda True qaytaring agar ular bir xil oxirgi raqamga ega bo'lsa\n",
    "def agar_oxirgi_raqami_bir_xil_bolsa (a: int,b: int) -> bool:\n",
    "    return a % 10 == b % 10\n",
    "\n",
    "print(agar_oxirgi_raqami_bir_xil_bolsa(35,25))\n",
    "print(agar_oxirgi_raqami_bir_xil_bolsa(46,16))\n",
    "print(agar_oxirgi_raqami_bir_xil_bolsa(11,12))"
   ]
  },
  {
   "cell_type": "code",
   "execution_count": 20,
   "metadata": {},
   "outputs": [
    {
     "name": "stdout",
     "output_type": "stream",
     "text": [
      "6\n"
     ]
    }
   ],
   "source": [
    "# Berilgan 3 xonali sonning raqamlar yigindisini aniqlang\n",
    "def yigindi(son: int) -> int:\n",
    "   \n",
    "    if not (100 <= son <= 999): \n",
    "        raise ValueError\n",
    "\n",
    "    yuzlik = son // 100\n",
    "    onlik = (son // 10) % 10\n",
    "    birlik = son % 10\n",
    "\n",
    "    return yuzlik + onlik + birlik \n",
    "\n",
    "print(yigindi(222)) \n"
   ]
  },
  {
   "cell_type": "code",
   "execution_count": 23,
   "metadata": {},
   "outputs": [
    {
     "name": "stdout",
     "output_type": "stream",
     "text": [
      "olno\n",
      "meu$\n",
      "$$ai\n"
     ]
    }
   ],
   "source": [
    "# Berilgan  2 ta xarfan uzun bo'lgan so'zni dastlabki 2 ta xarfidan tashkil topgan soz tuzing agar 2 tadan kam bolsa $ belgisini ishlatiling agar so'z faqat ''  dan iborat bolsa 2 ta $ ni qaytaring\n",
    "def sozlar (soz1: str, soz2:str) -> str:\n",
    "    def process_word(soz):\n",
    "        if not soz:\n",
    "            return \"$$\"\n",
    "        return soz[:2] if len (soz) >=2 else soz + \"$\"\n",
    "\n",
    "    return process_word(soz1) + process_word(soz2)\n",
    "\n",
    "print(sozlar(\"olma\", \"nok\"))\n",
    "print(sozlar(\"men\", \"u\"))\n",
    "print(sozlar(\"\", \"ai\"))"
   ]
  },
  {
   "cell_type": "code",
   "execution_count": 25,
   "metadata": {},
   "outputs": [
    {
     "name": "stdout",
     "output_type": "stream",
     "text": [
      "To'g'ri burchakli\n",
      "Teng tomonli\n",
      "Teng yonli\n",
      "Bu uchburchak emas\n"
     ]
    }
   ],
   "source": [
    "#a,b,c  musbat tomonli uchburchak teng tomonli bo'ladi/togri burchakli/ teng yonli\n",
    "\n",
    "def uchburchak_turi(a:float, b:float , c:float) -> str:\n",
    "    if not ( a>0 and b>0 and c>0 ):\n",
    "        return \"Barcha tomonlar musbat bo'lishi kerak\"\n",
    "\n",
    "    if not ( a + b > c and a + c > b and b + c > a):\n",
    "        return \"Bu uchburchak emas\"\n",
    "\n",
    "    if a == b == c:\n",
    "        return \"Teng tomonli\"\n",
    "\n",
    "    if (\n",
    "        a**2 + b**2 == c**2 or\n",
    "        a**2 + c**2 == b**2 or\n",
    "        b**2 + c**2 == a**2\n",
    "    ):\n",
    "        return \"To'g'ri burchakli\"\n",
    "    \n",
    "    if a==b or b==c or a==c:\n",
    "        return \"Teng yonli\"\n",
    "\n",
    "    return \"Oddiy uchburchak\"\n",
    "\n",
    "\n",
    "print(uchburchak_turi(3,4,5))\n",
    "print(uchburchak_turi(2,2,2))\n",
    "print(uchburchak_turi(4,4,5))\n",
    "print(uchburchak_turi(1,1,3))\n"
   ]
  },
  {
   "cell_type": "code",
   "execution_count": 26,
   "metadata": {},
   "outputs": [
    {
     "name": "stdout",
     "output_type": "stream",
     "text": [
      "Faqat bitta son toq.\n",
      "Ikkala son ham toq.\n",
      "Ikkala son ham juft.\n",
      "Ikkala son ham musbat bo'lishi kerak.\n"
     ]
    }
   ],
   "source": [
    "# a va b  musbat sonning faqat bittasi/ikkalasi toq son\n",
    "def check_odd(a,b):\n",
    "    if a <= 0 or b <= 0:\n",
    "        return \"Ikkala son ham musbat bo'lishi kerak.\"\n",
    "\n",
    "    if ( a % 2 == 1 and b % 2 == 0) or ( a % 2 == 0 and b % 2 == 1):\n",
    "        return \"Faqat bitta son toq.\"\n",
    "\n",
    "    elif a % 2 == 1 and b % 2 == 1:\n",
    "        return \"Ikkala son ham toq.\"\n",
    "    else:\n",
    "        return \"Ikkala son ham juft.\"\n",
    "    \n",
    "\n",
    "print(check_odd(3,4))\n",
    "print(check_odd(5,7))\n",
    "print(check_odd(2,8))\n",
    "print(check_odd(3,-4))"
   ]
  },
  {
   "cell_type": "code",
   "execution_count": 27,
   "metadata": {},
   "outputs": [
    {
     "name": "stdout",
     "output_type": "stream",
     "text": [
      "Ikkala son ham toq.\n",
      "Ikkala son ham toq emas.\n",
      "Ikkala son ham toq.\n",
      "Ikkala son ham musbat bo'lishi kerak.\n"
     ]
    }
   ],
   "source": [
    "#a va b  musbat sonlarning ikkalasi xam toq xam musbat\n",
    "def check_both_odd(a,b):\n",
    "    if a <= 0 or b <= 0:\n",
    "        return \"Ikkala son ham musbat bo'lishi kerak.\"\n",
    "\n",
    "    if a % 2 == 1 and b % 2 == 1:\n",
    "        return \"Ikkala son ham toq.\"\n",
    "    else:\n",
    "        return \"Ikkala son ham toq emas.\"\n",
    "\n",
    "print(check_both_odd(3,5))\n",
    "print(check_both_odd(4,7))\n",
    "print(check_both_odd(9,11))\n",
    "print(check_both_odd(3,-7))"
   ]
  },
  {
   "cell_type": "code",
   "execution_count": 29,
   "metadata": {},
   "outputs": [
    {
     "name": "stdout",
     "output_type": "stream",
     "text": [
      "10 ga bo'linadigan son\n",
      "5 ga bo'linadigan son\n",
      "Qaytadan son kiriting\n"
     ]
    }
   ],
   "source": [
    "def sonni_tekshirish(son):\n",
    "    if son <= 0:\n",
    "        return \"Musbat son kiriting.\"\n",
    "\n",
    "    last_diggit = son % 10\n",
    "\n",
    "    if last_diggit == 0:\n",
    "        return \"10 ga bo'linadigan son\"\n",
    "    elif last_diggit == 5:\n",
    "        return \"5 ga bo'linadigan son\"\n",
    "    else:\n",
    "        return \"Qaytadan son kiriting\"\n",
    "\n",
    "print(sonni_tekshirish(40))\n",
    "print(sonni_tekshirish(25))\n",
    "print(sonni_tekshirish(34))    "
   ]
  },
  {
   "cell_type": "code",
   "execution_count": 30,
   "metadata": {},
   "outputs": [
    {
     "name": "stdout",
     "output_type": "stream",
     "text": [
      "So'zning uzunligi juft bo'lishi kerak.\n",
      "So'zning oxirgi harfi: z\n",
      "So'zning uzunligi juft bo'lishi kerak.\n",
      "So'zning uzunligi juft bo'lishi kerak.\n"
     ]
    }
   ],
   "source": [
    "#Agar berilgan  juft uzunllikka ega bo'lgan so'zning bosh xarfi 'a' yoki 'A' bo'sa bosh xarf agar z yoki Z bo'lsa oxirgi xarf aks xolda xatolik deb ekranga chiqaring\n",
    "def check_word(word):\n",
    "    if len(word) % 2 != 0:\n",
    "        return \"So'zning uzunligi juft bo'lishi kerak.\"\n",
    "    \n",
    "    first_char = word[0]\n",
    "    last_char = word[-1]\n",
    "    \n",
    "    if first_char.lower() == 'a':\n",
    "        return f\"So'zning bosh harfi: {first_char}\"\n",
    "    elif last_char.lower() == 'z':\n",
    "        return f\"So'zning oxirgi harfi: {last_char}\"\n",
    "    else:\n",
    "        return \"Xatolik: talabga javob bermaydi.\"\n",
    "\n",
    "# Test misollar\n",
    "print(check_word(\"Apple\"))   # So'zning bosh harfi: A\n",
    "print(check_word(\"Buzz\"))    # So'zning oxirgi harfi: z\n",
    "print(check_word(\"Table\"))   # Xatolik: talabga javob bermaydi\n",
    "print(check_word(\"Amaze\"))   # So'zning uzunligi juft bo'lishi kerak\n"
   ]
  },
  {
   "cell_type": "code",
   "execution_count": null,
   "metadata": {},
   "outputs": [],
   "source": []
  }
 ],
 "metadata": {
  "kernelspec": {
   "display_name": "Python 3",
   "language": "python",
   "name": "python3"
  },
  "language_info": {
   "codemirror_mode": {
    "name": "ipython",
    "version": 3
   },
   "file_extension": ".py",
   "mimetype": "text/x-python",
   "name": "python",
   "nbconvert_exporter": "python",
   "pygments_lexer": "ipython3",
   "version": "3.13.0"
  }
 },
 "nbformat": 4,
 "nbformat_minor": 2
}
