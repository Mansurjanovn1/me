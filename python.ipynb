{
 "cells": [
  {
   "cell_type": "code",
   "execution_count": 3,
   "metadata": {},
   "outputs": [
    {
     "name": "stdout",
     "output_type": "stream",
     "text": [
      "3.0 va 2.0 sonlarining o'rta arifmetigi: 1.0\n"
     ]
    }
   ],
   "source": [
    "#Berilgan 2 ta sonni o'rta arifmetigini toping\n",
    "\n",
    "a=float(input(\"Birinchi sonni kiriting:\"))\n",
    "b=float(input(\"Ikkinchi sonni kiriting:\"))\n",
    "\n",
    "average=(a+b)/2\n",
    "\n",
    "print(f\"{a} va {b} sonlarining o'rta arifmetigi: {average}\")"
   ]
  },
  {
   "cell_type": "code",
   "execution_count": 7,
   "metadata": {},
   "outputs": [
    {
     "name": "stdout",
     "output_type": "stream",
     "text": [
      "4.0 va 9.0 sonlarining o'rta geometrigi: 6.0\n"
     ]
    }
   ],
   "source": [
    "#Berilgan 2 ta sonni o'rta geometrigini toping\n",
    "\n",
    "import math\n",
    "\n",
    "a=float(input(\"Birinchi sonni kiriting:\"))\n",
    "b=float(input(\"Ikkinchi sonni kiriting:\"))\n",
    "\n",
    "geometric_mean=math.sqrt(a*b)\n",
    "\n",
    "print(f\"{a} va {b} sonlarining o'rta geometrigi: {geometric_mean}\")"
   ]
  },
  {
   "cell_type": "code",
   "execution_count": 10,
   "metadata": {},
   "outputs": [
    {
     "name": "stdout",
     "output_type": "stream",
     "text": [
      "Xato: Indeks so'z uzunligidan katta yoki manfiy bo'lmasligi kerak!\n"
     ]
    }
   ],
   "source": [
    "#Berilgan so'zni istalgan(so'z uzunligidan katta bo'lmagan) indexidagi so'zni ekranga chiqaring \n",
    "\n",
    "word=input(\"So'zni kiriting:\")\n",
    "\n",
    "index=int(input(\"Indeksni kiriting:\"))\n",
    "\n",
    "if 0<=index < len(word):\n",
    "    print(f\"So'zning {index}-indeksidagi belgisi: {word[index]}\")\n",
    "else:\n",
    "    print(\"Xato: Indeks so'z uzunligidan katta yoki manfiy bo'lmasligi kerak!\")"
   ]
  },
  {
   "cell_type": "code",
   "execution_count": 13,
   "metadata": {},
   "outputs": [
    {
     "name": "stdout",
     "output_type": "stream",
     "text": [
      "'dunyo'so'zi listda mavjud.\n"
     ]
    }
   ],
   "source": [
    "# Berilgan listga 3 ta so'z kiriting va u so'zni listda mavjud bo'lish yoki bo'lmasligini tekshiring\n",
    "\n",
    "words_list=[]\n",
    "\n",
    "for i in range(3):\n",
    "    word=input(f\"{i+1}-so'zni kiriting:\")\n",
    "    words_list.append(word)\n",
    "\n",
    "\n",
    "salom_dunyo=input(\"Qidirilayotgan so'zni kiriting:\")\n",
    "\n",
    "\n",
    "if salom_dunyo in words_list:\n",
    "    print(f\"'{salom_dunyo}'so'zi listda mavjud.\")\n",
    "else:\n",
    "    print(f\"'{salom_dunyo}'so'zi listda mavjud emas.\")"
   ]
  },
  {
   "cell_type": "code",
   "execution_count": 15,
   "metadata": {},
   "outputs": [
    {
     "name": "stdout",
     "output_type": "stream",
     "text": [
      "3.0*5.0\n",
      "3.0/5.0\n",
      "3.0%5.0\n",
      "3.0//5.0\n"
     ]
    }
   ],
   "source": [
    "#Ikki float son kiriting va ular orasida  4 matematik amal bajaring(*, /, //, % )\n",
    "\n",
    "a=float(input(\"Birinchi sonni kiriting:\"))\n",
    "b=float(input(\"Ikkinchi sonni kiriting:\"))\n",
    "\n",
    "a*b\n",
    "a/b\n",
    "a%b\n",
    "a//b\n",
    "\n",
    "print(f\"{a}*{b}\")\n",
    "print(f\"{a}/{b}\")\n",
    "print(f\"{a}%{b}\")\n",
    "print(f\"{a}//{b}\")\n",
    "\n"
   ]
  },
  {
   "cell_type": "code",
   "execution_count": 21,
   "metadata": {},
   "outputs": [
    {
     "name": "stdout",
     "output_type": "stream",
     "text": [
      "0\n"
     ]
    }
   ],
   "source": [
    "#Foydalanuvchidan son kiritishni so'rang va u musbat, manfiy yoki 0 ekanligini aniqlang.\n",
    "\n",
    "a=float(input(\"sonni kiriting:\"))\n",
    "\n",
    "if a>0:\n",
    "    print(\"Manfiy\")\n",
    "elif a<0:\n",
    "    print(\"Musbat\")\n",
    "else:\n",
    "    print(\"0\")"
   ]
  },
  {
   "cell_type": "code",
   "execution_count": 24,
   "metadata": {},
   "outputs": [
    {
     "name": "stdout",
     "output_type": "stream",
     "text": [
      "Siz hali voyaga yetmagansiz\n"
     ]
    }
   ],
   "source": [
    "#Foydalanuvchidan yoshini so'rang. Agar yosh 18 yoki undan katta bo'lsa, \"Siz voyaga yetgansiz\", aks holda \"Siz hali voyaga yetmagansiz\" deb chiqaring.\n",
    "\n",
    "a=float(input(\"Yoshingizni kiriting\"))\n",
    "\n",
    "if a>18:\n",
    "    print(\"Siz voyaga yetgansiz\")\n",
    "else:\n",
    "    print(\"Siz hali voyaga yetmagansiz\")"
   ]
  },
  {
   "cell_type": "code",
   "execution_count": 25,
   "metadata": {},
   "outputs": [
    {
     "name": "stdout",
     "output_type": "stream",
     "text": [
      "Eng katta son: 7.0\n"
     ]
    }
   ],
   "source": [
    "#Foydalanuvchidan uchta son kiriting va eng kattasini aniqlang.\n",
    "\n",
    "a=float(input(\"Birinchi sonni kiriting:\"))\n",
    "b=float(input(\"Ikkinchi sonni kiriting:\"))\n",
    "c=float(input(\"Uchinchi sonni kiriting:\"))\n",
    "\n",
    "max_num=max(a,b,c)\n",
    "\n",
    "print(f\"Eng katta son: {max_num}\")"
   ]
  },
  {
   "cell_type": "code",
   "execution_count": 26,
   "metadata": {},
   "outputs": [
    {
     "name": "stdout",
     "output_type": "stream",
     "text": [
      "Juft sonlar:\n",
      "2\n",
      "4\n",
      "6\n",
      "8\n",
      "10\n",
      "\n",
      "Toq sonlar:\n",
      "1\n",
      "3\n",
      "5\n",
      "7\n",
      "9\n"
     ]
    }
   ],
   "source": [
    "#1 dan 10 gacha bo'lgan barcha  juft/ toq sonlarni ekranga chiqaring.\n",
    "print(\"Juft sonlar:\")\n",
    "for i in range(1, 11):\n",
    "    if i % 2 == 0:\n",
    "        print(i)\n",
    "\n",
    "print(\"\\nToq sonlar:\")\n",
    "for i in range(1, 11):\n",
    "    if i % 2 != 0:\n",
    "        print(i)"
   ]
  },
  {
   "cell_type": "code",
   "execution_count": 27,
   "metadata": {},
   "outputs": [
    {
     "name": "stdout",
     "output_type": "stream",
     "text": [
      "Juft sonlar:\n",
      "6 8 10 12 14 \n",
      "Juft sonlarning yig'indisi: 50\n"
     ]
    }
   ],
   "source": [
    "#Foydalanuvchidan sonlar orasidagi oraliqni kiriting (masalan, 5 va 15), va shu oraliqdagi juft sonlarni ekranga chiqaring va ularni yigindisini toping\n",
    "\n",
    "start = int(input(\"Oraliqning boshini kiriting: \"))\n",
    "end = int(input(\"Oraliqning oxirini kiriting: \"))\n",
    "\n",
    "# Juft sonlarni yig'ish va chiqarish\n",
    "even_sum = 0\n",
    "print(\"Juft sonlar:\")\n",
    "\n",
    "for i in range(start, end + 1):\n",
    "    if i % 2 == 0:\n",
    "        print(i, end=\" \")  # Juft sonlarni ekranga chiqarish\n",
    "        even_sum += i      # Juft sonlarni yig'ishga qo'shish\n",
    "\n",
    "# Juft sonlarning yig'indisini chiqarish\n",
    "print(f\"\\nJuft sonlarning yig'indisi: {even_sum}\")"
   ]
  },
  {
   "cell_type": "code",
   "execution_count": null,
   "metadata": {},
   "outputs": [],
   "source": []
  }
 ],
 "metadata": {
  "kernelspec": {
   "display_name": "Python 3",
   "language": "python",
   "name": "python3"
  },
  "language_info": {
   "codemirror_mode": {
    "name": "ipython",
    "version": 3
   },
   "file_extension": ".py",
   "mimetype": "text/x-python",
   "name": "python",
   "nbconvert_exporter": "python",
   "pygments_lexer": "ipython3",
   "version": "3.13.0"
  }
 },
 "nbformat": 4,
 "nbformat_minor": 2
}
